{
 "cells": [
  {
   "cell_type": "code",
   "execution_count": 1,
   "id": "a6bc15a5",
   "metadata": {},
   "outputs": [],
   "source": [
    "from pulp import LpMinimize, LpProblem, lpSum, LpVariable, GLPK"
   ]
  },
  {
   "cell_type": "markdown",
   "id": "8e54c94d",
   "metadata": {},
   "source": [
    "## Example 2"
   ]
  },
  {
   "cell_type": "code",
   "execution_count": 2,
   "id": "a0e445f4",
   "metadata": {},
   "outputs": [
    {
     "data": {
      "text/plain": [
       "facility_location:\n",
       "MINIMIZE\n",
       "40000.0*x_1 + 30000.0*x_2 + 25000.0*x_3 + 40000.0*x_4 + 30000.0*x_5 + 2.4*y_11 + 3.25*y_12 + 4.05*y_13 + 5.25*y_14 + 6.95*y_15 + 3.5*y_21 + 2.3*y_22 + 3.25*y_23 + 6.05*y_24 + 5.85*y_25 + 4.8*y_31 + 3.4*y_32 + 2.85*y_33 + 4.3*y_34 + 4.8*y_35 + 6.8*y_41 + 5.25*y_42 + 4.3*y_43 + 3.25*y_44 + 2.1*y_45 + 5.75*y_51 + 6*y_52 + 4.75*y_53 + 2.75*y_54 + 3.5*y_55 + 0.0\n",
       "SUBJECT TO\n",
       "capacity_constraint_for_facility_1: - 20000 x_1 + y_11 + y_21 + y_31 + y_41\n",
       " + y_51 <= 0\n",
       "\n",
       "capacity_constraint_for_facility_2: - 20000 x_2 + y_12 + y_22 + y_32 + y_42\n",
       " + y_52 <= 0\n",
       "\n",
       "capacity_constraint_for_facility_3: - 15000 x_3 + y_13 + y_23 + y_33 + y_43\n",
       " + y_53 <= 0\n",
       "\n",
       "capacity_constraint_for_facility_4: - 25000 x_4 + y_14 + y_24 + y_34 + y_44\n",
       " + y_54 <= 0\n",
       "\n",
       "capacity_constraint_for_facility_5: - 15000 x_5 + y_15 + y_25 + y_35 + y_45\n",
       " + y_55 <= 0\n",
       "\n",
       "demand_constraint_for_region_1: y_11 + y_12 + y_13 + y_14 + y_15 >= 8000\n",
       "\n",
       "demand_constraint_for_region_2: y_21 + y_22 + y_23 + y_24 + y_25 >= 12000\n",
       "\n",
       "demand_constraint_for_region_3: y_31 + y_32 + y_33 + y_34 + y_35 >= 9000\n",
       "\n",
       "demand_constraint_for_region_4: y_41 + y_42 + y_43 + y_44 + y_45 >= 14000\n",
       "\n",
       "demand_constraint_for_region_5: y_51 + y_52 + y_53 + y_54 + y_55 >= 17000\n",
       "\n",
       "VARIABLES\n",
       "0 <= x_1 <= 1 Integer\n",
       "0 <= x_2 <= 1 Integer\n",
       "0 <= x_3 <= 1 Integer\n",
       "0 <= x_4 <= 1 Integer\n",
       "0 <= x_5 <= 1 Integer\n",
       "y_11 Continuous\n",
       "y_12 Continuous\n",
       "y_13 Continuous\n",
       "y_14 Continuous\n",
       "y_15 Continuous\n",
       "y_21 Continuous\n",
       "y_22 Continuous\n",
       "y_23 Continuous\n",
       "y_24 Continuous\n",
       "y_25 Continuous\n",
       "y_31 Continuous\n",
       "y_32 Continuous\n",
       "y_33 Continuous\n",
       "y_34 Continuous\n",
       "y_35 Continuous\n",
       "y_41 Continuous\n",
       "y_42 Continuous\n",
       "y_43 Continuous\n",
       "y_44 Continuous\n",
       "y_45 Continuous\n",
       "y_51 Continuous\n",
       "y_52 Continuous\n",
       "y_53 Continuous\n",
       "y_54 Continuous\n",
       "y_55 Continuous"
      ]
     },
     "execution_count": 2,
     "metadata": {},
     "output_type": "execute_result"
    }
   ],
   "source": [
    "model = LpProblem(name=\"facility_location\", sense=LpMinimize)\n",
    "\n",
    "x = []\n",
    "for j in range(1, 6):\n",
    "    x.append(LpVariable(name=f\"x_{j}\", lowBound=0, cat=\"Binary\"))\n",
    "\n",
    "y = []\n",
    "for i in range(1, 6):\n",
    "    y_i = []\n",
    "    for j in range(1, 6):\n",
    "        y_i.append(LpVariable(name=f\"y_{i}{j}\", lowBound=0))\n",
    "    y.append(y_i)\n",
    "\n",
    "operation_costs = [4e4, 3e4, 2.5e4, 4e4, 3e4]\n",
    "capacities = [2e4, 2e4, 1.5e4, 2.5e4, 1.5e4]\n",
    "shipping_costs = [\n",
    "    [2.4, 3.25, 4.05, 5.25, 6.95],\n",
    "    [3.5, 2.3, 3.25, 6.05, 5.85],\n",
    "    [4.8, 3.4, 2.85, 4.3, 4.8],\n",
    "    [6.8, 5.25, 4.3, 3.25, 2.1],\n",
    "    [5.75, 6, 4.75, 2.75, 3.5],\n",
    "]\n",
    "demands = [8000, 12000, 9000, 14000, 17000]\n",
    "\n",
    "obj_operation_costs = [c * x for c, x in zip(operation_costs, x)]\n",
    "obj_shipping_costs = []\n",
    "for i in range(5):\n",
    "    for j in range(5):\n",
    "        obj_shipping_costs.append(shipping_costs[i][j] * y[i][j])\n",
    "obj_func = lpSum(obj_operation_costs + obj_shipping_costs)\n",
    "\n",
    "model += obj_func\n",
    "\n",
    "# capacity constraint\n",
    "for j in range(5):\n",
    "    model += (lpSum([y[i][j] for i in range(5)]) <= capacities[j] * x[j], f\"capacity constraint for facility {j + 1}\")\n",
    "    \n",
    "# demand constraints\n",
    "for i in range(5):\n",
    "    model += (lpSum([y[i][j] for j in range(5)]) >= demands[i], f\"demand constraint for region {i + 1}\")\n",
    "    \n",
    "model"
   ]
  },
  {
   "cell_type": "code",
   "execution_count": 3,
   "id": "ca30d26e",
   "metadata": {},
   "outputs": [
    {
     "name": "stdout",
     "output_type": "stream",
     "text": [
      "268950.0\n",
      "x_1 = 0.0\n",
      "x_2 = 1.0\n",
      "x_3 = 0.0\n",
      "x_4 = 1.0\n",
      "x_5 = 1.0\n",
      "y_11 = 0.0\n",
      "y_12 = 8000.0\n",
      "y_13 = 0.0\n",
      "y_14 = 0.0\n",
      "y_15 = 0.0\n",
      "y_21 = 0.0\n",
      "y_22 = 12000.0\n",
      "y_23 = 0.0\n",
      "y_24 = 0.0\n",
      "y_25 = 0.0\n",
      "y_31 = 0.0\n",
      "y_32 = 0.0\n",
      "y_33 = 0.0\n",
      "y_34 = 8000.0\n",
      "y_35 = 1000.0\n",
      "y_41 = 0.0\n",
      "y_42 = 0.0\n",
      "y_43 = 0.0\n",
      "y_44 = 0.0\n",
      "y_45 = 14000.0\n",
      "y_51 = 0.0\n",
      "y_52 = 0.0\n",
      "y_53 = 0.0\n",
      "y_54 = 17000.0\n",
      "y_55 = 0.0\n"
     ]
    }
   ],
   "source": [
    "status = model.solve()\n",
    "if status == 1:\n",
    "    print(model.objective.value())\n",
    "    for var in model.variables():\n",
    "        print(var.name, \"=\", var.value())"
   ]
  },
  {
   "cell_type": "code",
   "execution_count": null,
   "id": "e0e58e6e",
   "metadata": {},
   "outputs": [],
   "source": []
  }
 ],
 "metadata": {
  "kernelspec": {
   "display_name": "Python 3 (ipykernel)",
   "language": "python",
   "name": "python3"
  },
  "language_info": {
   "codemirror_mode": {
    "name": "ipython",
    "version": 3
   },
   "file_extension": ".py",
   "mimetype": "text/x-python",
   "name": "python",
   "nbconvert_exporter": "python",
   "pygments_lexer": "ipython3",
   "version": "3.8.2"
  }
 },
 "nbformat": 4,
 "nbformat_minor": 5
}
