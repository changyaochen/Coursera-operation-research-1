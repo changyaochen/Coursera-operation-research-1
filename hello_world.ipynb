{
 "cells": [
  {
   "cell_type": "markdown",
   "id": "2028e840",
   "metadata": {},
   "source": [
    "## Hello world\n",
    "\n",
    "Here we want to demonstrate how to use solve Linear Programming problems using Python."
   ]
  },
  {
   "cell_type": "code",
   "execution_count": 1,
   "id": "7aa4cfc9",
   "metadata": {},
   "outputs": [],
   "source": [
    "from scipy.optimize import linprog\n",
    "from pulp import LpMaximize, LpProblem, LpStatus, lpSum, LpVariable, GLPK"
   ]
  },
  {
   "cell_type": "code",
   "execution_count": 2,
   "id": "0580a49a",
   "metadata": {},
   "outputs": [
    {
     "data": {
      "text/plain": [
       "     con: array([0.])\n",
       "     fun: -16.818181818181817\n",
       " message: 'Optimization terminated successfully.'\n",
       "     nit: 3\n",
       "   slack: array([ 0.        , 18.18181818,  3.36363636])\n",
       "  status: 0\n",
       " success: True\n",
       "       x: array([7.72727273, 4.54545455])"
      ]
     },
     "execution_count": 2,
     "metadata": {},
     "output_type": "execute_result"
    }
   ],
   "source": [
    "# Example from here: https://realpython.com/linear-programming-python/#example-1\n",
    "obj = [-1, -2]\n",
    "#      ─┬  ─┬\n",
    "#       │   └┤ Coefficient for y\n",
    "#       └────┤ Coefficient for x\n",
    "\n",
    "lhs_ineq = [\n",
    "    [ 2, 1],  # Red constraint left side\n",
    "    [-4, 5],  # Blue constraint left side\n",
    "    [1, -2],  # Yellow constraint left side\n",
    "]\n",
    "\n",
    "rhs_ineq = [\n",
    "    20,  # Red constraint right side\n",
    "    10,  # Blue constraint right side\n",
    "    2,  # Yellow constraint right side\n",
    "]\n",
    "\n",
    "lhs_eq = [[-1, 5]]  # Green constraint left side\n",
    "rhs_eq = [15]  # Green constraint right side\n",
    "\n",
    "bnd = [\n",
    "    (0, float(\"inf\")),  # Bounds of x\n",
    "    (0, float(\"inf\")),  # Bounds of y\n",
    "]\n",
    "\n",
    "opt = linprog(c=obj, A_ub=lhs_ineq, b_ub=rhs_ineq,\n",
    "              A_eq=lhs_eq, b_eq=rhs_eq, bounds=bnd,\n",
    "              method=\"revised simplex\")\n",
    "opt"
   ]
  },
  {
   "cell_type": "code",
   "execution_count": 3,
   "id": "b789fce4",
   "metadata": {},
   "outputs": [
    {
     "name": "stdout",
     "output_type": "stream",
     "text": [
      "<class 'pulp.pulp.LpAffineExpression'>\n",
      "<class 'pulp.pulp.LpConstraint'>\n"
     ]
    },
    {
     "name": "stderr",
     "output_type": "stream",
     "text": [
      "/Users/changyaochen/.local/share/virtualenvs/Coursera-operation-research-1-rOQX_doW/lib/python3.8/site-packages/pulp/pulp.py:1353: UserWarning: Overwriting previously set objective.\n",
      "  warnings.warn(\"Overwriting previously set objective.\")\n"
     ]
    },
    {
     "data": {
      "text/plain": [
       "small-problem:\n",
       "MAXIMIZE\n",
       "1*x + 2*y + 0\n",
       "SUBJECT TO\n",
       "red_constraint: 2 x + y <= 20\n",
       "\n",
       "blue_constraint: 4 x - 5 y >= -10\n",
       "\n",
       "yellow_constraint: - x + 2 y >= -2\n",
       "\n",
       "green_constraint: - x + 5 y = 15\n",
       "\n",
       "VARIABLES\n",
       "x Continuous\n",
       "y Continuous"
      ]
     },
     "execution_count": 3,
     "metadata": {},
     "output_type": "execute_result"
    }
   ],
   "source": [
    "# Same example, but with PuLP\n",
    "# Create the model\n",
    "model = LpProblem(name=\"small-problem\", sense=LpMaximize)\n",
    "\n",
    "# Initialize the decision variables\n",
    "x = LpVariable(name=\"x\", lowBound=0)\n",
    "y = LpVariable(name=\"y\", lowBound=0)\n",
    "\n",
    "# How to define objective function\n",
    "expression = 2 * x + 4 * y\n",
    "print(type(expression))\n",
    "\n",
    "# How to define constraints\n",
    "constraint = 2 * x + 4 * y >= 8\n",
    "print(type(constraint))\n",
    "\n",
    "# Define the model, with objective functions and constraints\n",
    "# Add the constraints to the model\n",
    "model += (2 * x + y <= 20, \"red_constraint\")\n",
    "model += (4 * x - 5 * y >= -10, \"blue_constraint\")\n",
    "model += (-x + 2 * y >= -2, \"yellow_constraint\")\n",
    "model += (-x + 5 * y == 15, \"green_constraint\")\n",
    "# Add the objective function to the model\n",
    "obj_func = x + 2 * y\n",
    "model += obj_func\n",
    "# Add the same objective function to the model, with different method\n",
    "model += lpSum([x, 2 * y])\n",
    "\n",
    "model"
   ]
  },
  {
   "cell_type": "code",
   "execution_count": 4,
   "id": "1c8cb50a",
   "metadata": {},
   "outputs": [
    {
     "data": {
      "text/plain": [
       "16.8181817"
      ]
     },
     "execution_count": 4,
     "metadata": {},
     "output_type": "execute_result"
    }
   ],
   "source": [
    "# Solve the problem with the default solver\n",
    "model.solve()\n",
    "model.objective.value()"
   ]
  },
  {
   "cell_type": "code",
   "execution_count": 5,
   "id": "a36f6180",
   "metadata": {},
   "outputs": [
    {
     "data": {
      "text/plain": [
       "1"
      ]
     },
     "execution_count": 5,
     "metadata": {},
     "output_type": "execute_result"
    }
   ],
   "source": [
    "# Solve the problem with a different solver\n",
    "model.solve(solver=GLPK(msg=False))"
   ]
  },
  {
   "cell_type": "markdown",
   "id": "67b76208",
   "metadata": {},
   "source": [
    "## 0-1 Knapsack example\n",
    "\n",
    "Here we want to show how to use `pulp` solve the famous 0-1 Knapsack problem. The example comes from the week 1 notes of the course.\n",
    "![title](./knapsack_example.png)"
   ]
  },
  {
   "cell_type": "code",
   "execution_count": 6,
   "id": "378f7f2b",
   "metadata": {},
   "outputs": [
    {
     "data": {
      "text/plain": [
       "knapsack:\n",
       "MAXIMIZE\n",
       "6*x0 + 5*x1 + 4*x2 + 4*x3 + 3*x4 + 4*x5 + 1*x6 + 0\n",
       "SUBJECT TO\n",
       "Total_weight_constraint: 0.5 x0 + 1.5 x1 + 0.4 x2 + x3 + 1.1 x4 + 1.6 x5\n",
       " + 0.8 x6 <= 5\n",
       "\n",
       "VARIABLES\n",
       "0 <= x0 <= 1 Integer\n",
       "0 <= x1 <= 1 Integer\n",
       "0 <= x2 <= 1 Integer\n",
       "0 <= x3 <= 1 Integer\n",
       "0 <= x4 <= 1 Integer\n",
       "0 <= x5 <= 1 Integer\n",
       "0 <= x6 <= 1 Integer"
      ]
     },
     "execution_count": 6,
     "metadata": {},
     "output_type": "execute_result"
    }
   ],
   "source": [
    "MAX_WEIGHT = 5.0\n",
    "knapsack_model = LpProblem(name=\"knapsack\", sense=LpMaximize)\n",
    "\n",
    "# Decision variables\n",
    "x = {i: LpVariable(name=f\"x{i}\", cat=\"Binary\") for i in range(7)}\n",
    "\n",
    "# Objective function\n",
    "values = [6, 5, 4, 4, 3, 4, 1]\n",
    "obj_func = lpSum([v * x[i] for i, v in enumerate(values)])\n",
    "knapsack_model += obj_func\n",
    "\n",
    "# Constraints\n",
    "weights = [0.5, 1.5, 0.4, 1, 1.1, 1.6, 0.8]\n",
    "constraint = lpSum([w * x[i] for i, w in enumerate(weights)]) <= MAX_WEIGHT\n",
    "knapsack_model += (constraint, \"Total weight constraint\")\n",
    "\n",
    "knapsack_model"
   ]
  },
  {
   "cell_type": "code",
   "execution_count": 7,
   "id": "c461240d",
   "metadata": {},
   "outputs": [
    {
     "name": "stdout",
     "output_type": "stream",
     "text": [
      "The status of the solver is 1\n",
      "The optimal value is 23.0\n",
      "The optimal decision is:\n",
      "x0: 1.0\n",
      "x1: 1.0\n",
      "x2: 1.0\n",
      "x3: 1.0\n",
      "x4: 0.0\n",
      "x5: 1.0\n",
      "x6: 0.0\n"
     ]
    }
   ],
   "source": [
    "status = knapsack_model.solve()\n",
    "print(f\"The status of the solver is {status}\")\n",
    "print(f\"The optimal value is {knapsack_model.objective.value()}\")\n",
    "\n",
    "print(\"The optimal decision is:\")\n",
    "for var in knapsack_model.variables():\n",
    "    print(f\"{var.name}: {var.value()}\")"
   ]
  },
  {
   "cell_type": "code",
   "execution_count": 8,
   "id": "02b95271",
   "metadata": {},
   "outputs": [],
   "source": [
    "# DP solution"
   ]
  }
 ],
 "metadata": {
  "kernelspec": {
   "display_name": "Python 3 (ipykernel)",
   "language": "python",
   "name": "python3"
  },
  "language_info": {
   "codemirror_mode": {
    "name": "ipython",
    "version": 3
   },
   "file_extension": ".py",
   "mimetype": "text/x-python",
   "name": "python",
   "nbconvert_exporter": "python",
   "pygments_lexer": "ipython3",
   "version": "3.8.2"
  }
 },
 "nbformat": 4,
 "nbformat_minor": 5
}
