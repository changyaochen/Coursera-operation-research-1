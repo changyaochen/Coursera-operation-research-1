{
 "cells": [
  {
   "cell_type": "markdown",
   "id": "36f71cd3",
   "metadata": {
    "toc": true
   },
   "source": [
    "<h1>Table of Contents<span class=\"tocSkip\"></span></h1>\n",
    "<div class=\"toc\"><ul class=\"toc-item\"><li><span><a href=\"#Problem-1\" data-toc-modified-id=\"Problem-1-1\">Problem 1</a></span></li><li><span><a href=\"#Problem-2\" data-toc-modified-id=\"Problem-2-2\">Problem 2</a></span></li></ul></div>"
   ]
  },
  {
   "cell_type": "code",
   "execution_count": 1,
   "id": "0e6865ce",
   "metadata": {
    "ExecuteTime": {
     "end_time": "2021-11-25T21:05:14.419843Z",
     "start_time": "2021-11-25T21:05:14.262736Z"
    }
   },
   "outputs": [],
   "source": [
    "import numpy as np\n",
    "\n",
    "from pulp import LpProblem, LpVariable, LpMaximize, lpSum"
   ]
  },
  {
   "cell_type": "markdown",
   "id": "e1be2a86",
   "metadata": {},
   "source": [
    "## Problem 1"
   ]
  },
  {
   "cell_type": "code",
   "execution_count": 2,
   "id": "90387b57",
   "metadata": {
    "ExecuteTime": {
     "end_time": "2021-11-25T21:05:15.438718Z",
     "start_time": "2021-11-25T21:05:15.397900Z"
    }
   },
   "outputs": [
    {
     "data": {
      "text/plain": [
       "3404.4586005"
      ]
     },
     "execution_count": 2,
     "metadata": {},
     "output_type": "execute_result"
    }
   ],
   "source": [
    "model = LpProblem(name=\"question_1\", sense=LpMaximize)\n",
    "\n",
    "prices = [100, 120, 135, 90, 125, 110, 105]\n",
    "\n",
    "# Decision variables\n",
    "xs = []\n",
    "for i in range(len(prices)):\n",
    "    xs.append(LpVariable(name=f\"x_{i}\", lowBound=0))\n",
    "\n",
    "# objective function\n",
    "obj_func = lpSum([p * x for p, x in zip(prices, xs)])\n",
    "model += obj_func\n",
    "\n",
    "# constraints\n",
    "materials = [\n",
    "    [0, 3, 10],\n",
    "    [5, 10, 10],\n",
    "    [5, 3, 9],\n",
    "    [4, 6, 3],\n",
    "    [8, 2, 8],\n",
    "    [5, 2, 10],\n",
    "    [3, 2, 7],\n",
    "]\n",
    "\n",
    "model += (lpSum([w[0] * x for w, x in zip(materials, xs)]) <= 100, \"material_1\")\n",
    "model += (lpSum([w[1] * x for w, x in zip(materials, xs)]) <= 150, \"material_2\")\n",
    "model += (lpSum([w[2] * x for w, x in zip(materials, xs)]) <= 200, \"material_3\")\n",
    "\n",
    "model.solve()\n",
    "model.objective.value()"
   ]
  },
  {
   "cell_type": "markdown",
   "id": "43eb80db",
   "metadata": {},
   "source": [
    "## Problem 2"
   ]
  },
  {
   "cell_type": "code",
   "execution_count": 3,
   "id": "90321408",
   "metadata": {
    "ExecuteTime": {
     "end_time": "2021-11-25T21:05:16.727115Z",
     "start_time": "2021-11-25T21:05:16.723248Z"
    }
   },
   "outputs": [],
   "source": [
    "X = [38, 56, 50, 52, 37, 60, 67, 54, 59, 43, 30, 53, 59, 40, 65]\n",
    "y = [137, 201, 152, 107, 150, 173, 194, 166, 154, 137, 38, 193, 154, 175, 247]"
   ]
  },
  {
   "cell_type": "code",
   "execution_count": 4,
   "id": "970d345f",
   "metadata": {
    "ExecuteTime": {
     "end_time": "2021-11-25T21:05:17.144153Z",
     "start_time": "2021-11-25T21:05:17.140937Z"
    }
   },
   "outputs": [],
   "source": [
    "X = np.vstack((np.ones(shape=len(X)), X)).T\n",
    "y = np.array(y).reshape((-1, 1))"
   ]
  },
  {
   "cell_type": "code",
   "execution_count": 5,
   "id": "d20fdfe5",
   "metadata": {
    "ExecuteTime": {
     "end_time": "2021-11-25T21:05:17.578839Z",
     "start_time": "2021-11-25T21:05:17.573188Z"
    }
   },
   "outputs": [
    {
     "data": {
      "text/plain": [
       "array([[6.86944357],\n",
       "       [2.98159678]])"
      ]
     },
     "execution_count": 5,
     "metadata": {},
     "output_type": "execute_result"
    }
   ],
   "source": [
    "beta = np.linalg.inv(X.T @ X) @ X.T @ y\n",
    "beta"
   ]
  }
 ],
 "metadata": {
  "kernelspec": {
   "display_name": "Python 3 (ipykernel)",
   "language": "python",
   "name": "python3"
  },
  "language_info": {
   "codemirror_mode": {
    "name": "ipython",
    "version": 3
   },
   "file_extension": ".py",
   "mimetype": "text/x-python",
   "name": "python",
   "nbconvert_exporter": "python",
   "pygments_lexer": "ipython3",
   "version": "3.8.9"
  },
  "toc": {
   "base_numbering": 1,
   "nav_menu": {},
   "number_sections": false,
   "sideBar": true,
   "skip_h1_title": false,
   "title_cell": "Table of Contents",
   "title_sidebar": "Contents",
   "toc_cell": true,
   "toc_position": {},
   "toc_section_display": true,
   "toc_window_display": true
  }
 },
 "nbformat": 4,
 "nbformat_minor": 5
}
