{
 "cells": [
  {
   "cell_type": "code",
   "execution_count": 1,
   "id": "1ff00c0c",
   "metadata": {},
   "outputs": [],
   "source": [
    "from pulp import LpMaximize, LpProblem, LpStatus, lpSum, LpVariable"
   ]
  },
  {
   "cell_type": "code",
   "execution_count": 2,
   "id": "66e4d12f",
   "metadata": {},
   "outputs": [
    {
     "name": "stdout",
     "output_type": "stream",
     "text": [
      "4.0\n",
      "2.0\n",
      "0.0\n"
     ]
    }
   ],
   "source": [
    "# question 1\n",
    "model = LpProblem(name=\"question_1\", sense=LpMaximize)\n",
    "\n",
    "x1 = LpVariable(name=\"x1\", lowBound=0)\n",
    "x2 = LpVariable(name=\"x2\", upBound=0)\n",
    "\n",
    "model += lpSum([2 * x1, -1 * x2])\n",
    "model += (8 * x1 - 4 * x2 <= 16, \"constraint 1\")\n",
    "model += (3 * x1 - 4 * x2 <= 12, \"constraint 2\")\n",
    "\n",
    "status = model.solve()\n",
    "if status == 1:\n",
    "    print(model.objective.value())\n",
    "    for var in model.variables():\n",
    "        print(var.value())"
   ]
  },
  {
   "cell_type": "code",
   "execution_count": 3,
   "id": "aaf997a0",
   "metadata": {},
   "outputs": [
    {
     "data": {
      "text/plain": [
       "question_1:\n",
       "MAXIMIZE\n",
       "2*x1 + -1*x2 + 0\n",
       "SUBJECT TO\n",
       "constraint_1: 8 x1 - 4 x2 <= 16\n",
       "\n",
       "constraint_2: 3 x1 - 4 x2 <= 12\n",
       "\n",
       "VARIABLES\n",
       "x1 Continuous\n",
       "-inf <= x2 <= 0 Continuous"
      ]
     },
     "execution_count": 3,
     "metadata": {},
     "output_type": "execute_result"
    }
   ],
   "source": [
    "model"
   ]
  },
  {
   "cell_type": "code",
   "execution_count": 4,
   "id": "e3b99930",
   "metadata": {},
   "outputs": [
    {
     "name": "stdout",
     "output_type": "stream",
     "text": [
      "50.666667499999996\n",
      "14.666667\n",
      "1.3333333\n"
     ]
    }
   ],
   "source": [
    "# question 2\n",
    "model = LpProblem(name=\"question_2\", sense=LpMaximize)\n",
    "\n",
    "x1 = LpVariable(name=\"x1\", lowBound=0)\n",
    "x2 = LpVariable(name=\"x2\", lowBound=0)\n",
    "\n",
    "model += lpSum([3 * x1, 5 * x2])\n",
    "model += (x1 + x2 <= 16, \"constraint 1\")\n",
    "model += (x1 + 4 * x2 <= 20, \"constraint 2\")\n",
    "model += (2 * x1 + x2 >= 6, \"constraint 3\")\n",
    "\n",
    "status = model.solve()\n",
    "if status == 1:\n",
    "    print(model.objective.value())\n",
    "    for var in model.variables():\n",
    "        print(var.value())"
   ]
  },
  {
   "cell_type": "code",
   "execution_count": 5,
   "id": "1697fa8d",
   "metadata": {},
   "outputs": [
    {
     "name": "stdout",
     "output_type": "stream",
     "text": [
      "126.0\n",
      "0.0\n",
      "7.0\n"
     ]
    }
   ],
   "source": [
    "# question 4 \n",
    "model = LpProblem(name=\"question_4\", sense=LpMaximize)\n",
    "\n",
    "x1 = LpVariable(name=\"x1\", lowBound=0)\n",
    "x2 = LpVariable(name=\"x2\", lowBound=0)\n",
    "\n",
    "model += lpSum([9 * x1, 18 * x2])\n",
    "model += (7 *x1 + 4 * x2 <= 50, \"constraint 1\")\n",
    "model += (1 / 1.1 * x1  + 1 / 0.7 * x2 <= 10, \"constraint 2\")\n",
    "\n",
    "status = model.solve()\n",
    "if status == 1:\n",
    "    print(model.objective.value())\n",
    "    for var in model.variables():\n",
    "        print(var.value())"
   ]
  },
  {
   "cell_type": "code",
   "execution_count": null,
   "id": "5a44358e",
   "metadata": {},
   "outputs": [],
   "source": []
  }
 ],
 "metadata": {
  "kernelspec": {
   "display_name": "Python 3 (ipykernel)",
   "language": "python",
   "name": "python3"
  },
  "language_info": {
   "codemirror_mode": {
    "name": "ipython",
    "version": 3
   },
   "file_extension": ".py",
   "mimetype": "text/x-python",
   "name": "python",
   "nbconvert_exporter": "python",
   "pygments_lexer": "ipython3",
   "version": "3.8.2"
  }
 },
 "nbformat": 4,
 "nbformat_minor": 5
}
