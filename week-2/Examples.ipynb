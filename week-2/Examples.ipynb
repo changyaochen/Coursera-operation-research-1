{
 "cells": [
  {
   "cell_type": "code",
   "execution_count": 1,
   "id": "753e0bec",
   "metadata": {},
   "outputs": [],
   "source": [
    "from pulp import LpMaximize, LpMinimize, LpProblem, lpSum, LpVariable, GLPK"
   ]
  },
  {
   "cell_type": "markdown",
   "id": "c9fd70fb",
   "metadata": {},
   "source": [
    "## Example 1\n",
    "![title](./example_1.png)"
   ]
  },
  {
   "cell_type": "code",
   "execution_count": 2,
   "id": "434dd5d8",
   "metadata": {},
   "outputs": [
    {
     "data": {
      "text/plain": [
       "desk_and_tables:\n",
       "MAXIMIZE\n",
       "700*x1 + 900*x2 + 0\n",
       "SUBJECT TO\n",
       "wood: 3 x1 + 5 x2 <= 3600\n",
       "\n",
       "labor: x1 + 2 x2 <= 1600\n",
       "\n",
       "machine: 50 x1 + 20 x2 <= 48000\n",
       "\n",
       "VARIABLES\n",
       "x1 Continuous\n",
       "x2 Continuous"
      ]
     },
     "execution_count": 2,
     "metadata": {},
     "output_type": "execute_result"
    }
   ],
   "source": [
    "model = LpProblem(name=\"desk_and_tables\", sense=LpMaximize)\n",
    "\n",
    "x1 = LpVariable(name=\"x1\", lowBound=0)\n",
    "x2 = LpVariable(name=\"x2\", lowBound=0)\n",
    "\n",
    "obj_func = lpSum([700 * x1, 900 * x2])\n",
    "model += obj_func\n",
    "\n",
    "model += (3 * x1 + 5 * x2 <= 3600, \"wood\")\n",
    "model += (x1 + 2 * x2 <= 1600, \"labor\")\n",
    "model += (50 * x1 + 20 * x2 <= 48000, \"machine\")\n",
    "\n",
    "model"
   ]
  },
  {
   "cell_type": "code",
   "execution_count": 3,
   "id": "972b5c1c",
   "metadata": {},
   "outputs": [
    {
     "name": "stdout",
     "output_type": "stream",
     "text": [
      "789473.683\n",
      "x1 = 884.21053\n",
      "x2 = 189.47368\n"
     ]
    }
   ],
   "source": [
    "status = model.solve()\n",
    "if status == 1:\n",
    "    print(model.objective.value())\n",
    "    for var in model.variables():\n",
    "        print(var.name, \"=\", var.value())"
   ]
  },
  {
   "cell_type": "markdown",
   "id": "37259fe7",
   "metadata": {},
   "source": [
    "## Example 2\n",
    "![title](./example_2.png)"
   ]
  },
  {
   "cell_type": "code",
   "execution_count": 4,
   "id": "74c4c619",
   "metadata": {},
   "outputs": [
    {
     "data": {
      "text/plain": [
       "personel_scheduling:\n",
       "MINIMIZE\n",
       "1*x0 + 1*x1 + 1*x2 + 1*x3 + 1*x4 + 1*x5 + 1*x6 + 0\n",
       "SUBJECT TO\n",
       "constraint_0: x0 + x3 + x4 + x5 + x6 >= 110\n",
       "\n",
       "constraint_1: x0 + x1 + x4 + x5 + x6 >= 80\n",
       "\n",
       "constraint_2: x0 + x1 + x2 + x5 + x6 >= 150\n",
       "\n",
       "constraint_3: x0 + x1 + x2 + x3 + x6 >= 30\n",
       "\n",
       "constraint_4: x0 + x1 + x2 + x3 + x4 >= 70\n",
       "\n",
       "constraint_5: x1 + x2 + x3 + x4 + x5 >= 160\n",
       "\n",
       "constraint_6: x2 + x3 + x4 + x5 + x6 >= 120\n",
       "\n",
       "VARIABLES\n",
       "0 <= x0 Integer\n",
       "0 <= x1 Integer\n",
       "0 <= x2 Integer\n",
       "0 <= x3 Integer\n",
       "0 <= x4 Integer\n",
       "0 <= x5 Integer\n",
       "0 <= x6 Integer"
      ]
     },
     "execution_count": 4,
     "metadata": {},
     "output_type": "execute_result"
    }
   ],
   "source": [
    "model = LpProblem(name=\"personel_scheduling\", sense=LpMinimize)\n",
    "\n",
    "x = [LpVariable(name=f\"x{i}\", lowBound=0, cat=\"Integer\") for i in range(7)]\n",
    "obj_func = lpSum(x)\n",
    "model += obj_func\n",
    "\n",
    "min_personels = [110, 80, 150, 30, 70, 160, 120]\n",
    "for i in range(7):\n",
    "    x_include = [y for j, y in enumerate(x) if j not in ((i + 1) % 7, (i + 2) % 7)]\n",
    "    model += (lpSum(x_include) >= min_personels[i], f\"constraint_{i}\")\n",
    "\n",
    "model"
   ]
  },
  {
   "cell_type": "code",
   "execution_count": 5,
   "id": "299e2450",
   "metadata": {},
   "outputs": [
    {
     "name": "stdout",
     "output_type": "stream",
     "text": [
      "164\n",
      "x0 = 3\n",
      "x1 = 0\n",
      "x2 = 54\n",
      "x3 = 0\n",
      "x4 = 13\n",
      "x5 = 94\n",
      "x6 = 0\n"
     ]
    }
   ],
   "source": [
    "status = model.solve(solver=GLPK(msg=False))\n",
    "if status == 1:\n",
    "    print(model.objective.value())\n",
    "    for var in model.variables():\n",
    "        print(var.name, \"=\", var.value())"
   ]
  },
  {
   "cell_type": "code",
   "execution_count": null,
   "id": "0419730c",
   "metadata": {},
   "outputs": [],
   "source": []
  }
 ],
 "metadata": {
  "kernelspec": {
   "display_name": "Python 3 (ipykernel)",
   "language": "python",
   "name": "python3"
  },
  "language_info": {
   "codemirror_mode": {
    "name": "ipython",
    "version": 3
   },
   "file_extension": ".py",
   "mimetype": "text/x-python",
   "name": "python",
   "nbconvert_exporter": "python",
   "pygments_lexer": "ipython3",
   "version": "3.8.2"
  }
 },
 "nbformat": 4,
 "nbformat_minor": 5
}
